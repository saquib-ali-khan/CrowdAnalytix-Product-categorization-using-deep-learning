{
  "nbformat": 4,
  "nbformat_minor": 0,
  "metadata": {
    "colab": {
      "name": "CAX.ipynb",
      "version": "0.3.2",
      "views": {},
      "default_view": {},
      "provenance": [],
      "collapsed_sections": []
    },
    "kernelspec": {
      "name": "python2",
      "display_name": "Python 2"
    },
    "accelerator": "GPU"
  },
  "cells": [
    {
      "metadata": {
        "id": "yEEhCNwrI1Kr",
        "colab_type": "code",
        "colab": {
          "autoexec": {
            "startup": false,
            "wait_interval": 0
          },
          "output_extras": [
            {}
          ],
          "base_uri": "https://localhost:8080/",
          "height": 105
        },
        "outputId": "08e57dd8-591f-4014-cb6d-3d9f10a6db66",
        "executionInfo": {
          "status": "ok",
          "timestamp": 1521867926465,
          "user_tz": -330,
          "elapsed": 26767,
          "user": {
            "displayName": "Saquib ali khan",
            "photoUrl": "https://lh3.googleusercontent.com/a/default-user=s128",
            "userId": "108158385319641670856"
          }
        }
      },
      "cell_type": "code",
      "source": [
        "!apt-get install -y -qq software-properties-common python-software-properties module-init-tools\n",
        "!add-apt-repository -y ppa:alessandro-strada/ppa 2>&1 > /dev/null\n",
        "!apt-get update -qq 2>&1 > /dev/null\n",
        "!apt-get -y install -qq google-drive-ocamlfuse fuse\n",
        "from google.colab import auth\n",
        "auth.authenticate_user()\n",
        "from oauth2client.client import GoogleCredentials\n",
        "creds = GoogleCredentials.get_application_default()\n",
        "import getpass\n",
        "!google-drive-ocamlfuse -headless -id={creds.client_id} -secret={creds.client_secret} < /dev/null 2>&1 | grep URL\n",
        "vcode = getpass.getpass()\n",
        "!echo {vcode} | google-drive-ocamlfuse -headless -id={creds.client_id} -secret={creds.client_secret}\n"
      ],
      "execution_count": 0,
      "outputs": [
        {
          "output_type": "stream",
          "text": [
            "Please, open the following URL in a web browser: https://accounts.google.com/o/oauth2/auth?client_id=32555940559.apps.googleusercontent.com&redirect_uri=urn%3Aietf%3Awg%3Aoauth%3A2.0%3Aoob&scope=https%3A%2F%2Fwww.googleapis.com%2Fauth%2Fdrive&response_type=code&access_type=offline&approval_prompt=force\r\n",
            "··········\n",
            "Please, open the following URL in a web browser: https://accounts.google.com/o/oauth2/auth?client_id=32555940559.apps.googleusercontent.com&redirect_uri=urn%3Aietf%3Awg%3Aoauth%3A2.0%3Aoob&scope=https%3A%2F%2Fwww.googleapis.com%2Fauth%2Fdrive&response_type=code&access_type=offline&approval_prompt=force\n",
            "Please enter the verification code: Access token retrieved correctly.\n"
          ],
          "name": "stdout"
        }
      ]
    },
    {
      "metadata": {
        "id": "lkPZVVMsI74Y",
        "colab_type": "code",
        "colab": {
          "autoexec": {
            "startup": false,
            "wait_interval": 0
          }
        }
      },
      "cell_type": "code",
      "source": [
        "!mkdir -p drive\n",
        "!google-drive-ocamlfuse drive"
      ],
      "execution_count": 0,
      "outputs": []
    },
    {
      "metadata": {
        "id": "3uUJMAHTK25r",
        "colab_type": "code",
        "colab": {
          "autoexec": {
            "startup": false,
            "wait_interval": 0
          }
        }
      },
      "cell_type": "code",
      "source": [
        "!cp drive/superheroes/CAX_Superhero_Test.zip /content/"
      ],
      "execution_count": 0,
      "outputs": []
    },
    {
      "metadata": {
        "id": "SdM2fZNHLbQa",
        "colab_type": "code",
        "colab": {
          "autoexec": {
            "startup": false,
            "wait_interval": 0
          }
        }
      },
      "cell_type": "code",
      "source": [
        "!cp drive/superheroes/CAX_Superhero_Train.zip /content/"
      ],
      "execution_count": 0,
      "outputs": []
    },
    {
      "metadata": {
        "id": "tRQjX9_GLsd9",
        "colab_type": "code",
        "colab": {
          "autoexec": {
            "startup": false,
            "wait_interval": 0
          },
          "output_extras": [
            {
              "item_id": 1
            }
          ],
          "base_uri": "https://localhost:8080/",
          "height": 53
        },
        "outputId": "3d91187e-bb63-4fdd-c9b0-3824d8f90526",
        "executionInfo": {
          "status": "ok",
          "timestamp": 1521887829162,
          "user_tz": -330,
          "elapsed": 3204,
          "user": {
            "displayName": "Yasir Mir",
            "photoUrl": "//lh4.googleusercontent.com/-PY9Q144RUDw/AAAAAAAAAAI/AAAAAAAADLk/WUtsYa51EaA/s50-c-k-no/photo.jpg",
            "userId": "106752496354715351807"
          }
        }
      },
      "cell_type": "code",
      "source": [
        "!ls"
      ],
      "execution_count": 188,
      "outputs": [
        {
          "output_type": "stream",
          "text": [
            "CAX_Superhero_Test\tCAX_Superhero_Train\t datalab  __MACOSX\r\n",
            "CAX_Superhero_Test.zip\tCAX_Superhero_Train.zip  drive\r\n"
          ],
          "name": "stdout"
        }
      ]
    },
    {
      "metadata": {
        "id": "Kg5DWUJDLtYV",
        "colab_type": "code",
        "colab": {
          "autoexec": {
            "startup": false,
            "wait_interval": 0
          }
        }
      },
      "cell_type": "code",
      "source": [
        "!unzip -q CAX_Superhero_Train.zip"
      ],
      "execution_count": 0,
      "outputs": []
    },
    {
      "metadata": {
        "id": "He2jKjpaOwM4",
        "colab_type": "code",
        "colab": {
          "autoexec": {
            "startup": false,
            "wait_interval": 0
          }
        }
      },
      "cell_type": "code",
      "source": [
        "!unzip -q CAX_Superhero_Test.zip"
      ],
      "execution_count": 0,
      "outputs": []
    },
    {
      "metadata": {
        "id": "L9AF8gusLv-s",
        "colab_type": "code",
        "colab": {
          "autoexec": {
            "startup": false,
            "wait_interval": 0
          },
          "output_extras": [
            {}
          ],
          "base_uri": "https://localhost:8080/",
          "height": 51
        },
        "outputId": "61268d88-aa3a-40f2-a603-591c6af2ed7a",
        "executionInfo": {
          "status": "ok",
          "timestamp": 1521868160335,
          "user_tz": -330,
          "elapsed": 1073,
          "user": {
            "displayName": "Saquib ali khan",
            "photoUrl": "https://lh3.googleusercontent.com/a/default-user=s128",
            "userId": "108158385319641670856"
          }
        }
      },
      "cell_type": "code",
      "source": [
        "!ls"
      ],
      "execution_count": 0,
      "outputs": [
        {
          "output_type": "stream",
          "text": [
            "CAX_Superhero_Test\tCAX_Superhero_Train\t datalab  __MACOSX\r\n",
            "CAX_Superhero_Test.zip\tCAX_Superhero_Train.zip  drive\r\n"
          ],
          "name": "stdout"
        }
      ]
    },
    {
      "metadata": {
        "id": "QJrAxrJ5Rs9y",
        "colab_type": "code",
        "colab": {
          "autoexec": {
            "startup": false,
            "wait_interval": 0
          }
        }
      },
      "cell_type": "code",
      "source": [
        "import os"
      ],
      "execution_count": 0,
      "outputs": []
    },
    {
      "metadata": {
        "id": "SgfR8vfBSGF_",
        "colab_type": "code",
        "colab": {
          "autoexec": {
            "startup": false,
            "wait_interval": 0
          }
        }
      },
      "cell_type": "code",
      "source": [
        "from scipy.misc import imread,imresize,imshow"
      ],
      "execution_count": 0,
      "outputs": []
    },
    {
      "metadata": {
        "id": "dEVLir3rTazj",
        "colab_type": "code",
        "colab": {
          "autoexec": {
            "startup": false,
            "wait_interval": 0
          }
        }
      },
      "cell_type": "code",
      "source": [
        "\n",
        "import numpy as np"
      ],
      "execution_count": 0,
      "outputs": []
    },
    {
      "metadata": {
        "id": "0L-MQzJITrjK",
        "colab_type": "code",
        "colab": {
          "autoexec": {
            "startup": false,
            "wait_interval": 0
          }
        }
      },
      "cell_type": "code",
      "source": [
        "import matplotlib.pyplot as plt"
      ],
      "execution_count": 0,
      "outputs": []
    },
    {
      "metadata": {
        "id": "rS7VWsS6DuvY",
        "colab_type": "code",
        "colab": {
          "autoexec": {
            "startup": false,
            "wait_interval": 0
          }
        }
      },
      "cell_type": "code",
      "source": [
        "\n",
        "\n",
        "!rm /content/CAX_Superhero_Train/Superman/cax_superman_train4738.jpg"
      ],
      "execution_count": 0,
      "outputs": []
    },
    {
      "metadata": {
        "id": "B2oDJmDOZeY6",
        "colab_type": "code",
        "colab": {
          "autoexec": {
            "startup": false,
            "wait_interval": 0
          }
        }
      },
      "cell_type": "code",
      "source": [
        "!rm \"/content/CAX_Superhero_Train/Iron Man/9221cax.jpg\""
      ],
      "execution_count": 0,
      "outputs": []
    },
    {
      "metadata": {
        "id": "5_V9JwKtpWkM",
        "colab_type": "code",
        "colab": {
          "autoexec": {
            "startup": false,
            "wait_interval": 0
          }
        }
      },
      "cell_type": "code",
      "source": [
        "\n",
        "!rm \"/content/CAX_Superhero_Train/Black Panther/4736cax.jpg\""
      ],
      "execution_count": 0,
      "outputs": []
    },
    {
      "metadata": {
        "id": "_bVEFgqDXMe2",
        "colab_type": "code",
        "colab": {
          "autoexec": {
            "startup": false,
            "wait_interval": 0
          }
        }
      },
      "cell_type": "code",
      "source": [
        "!rm /content/CAX_Superhero_Train/Hulk/8613cax.jpg"
      ],
      "execution_count": 0,
      "outputs": []
    },
    {
      "metadata": {
        "id": "RhtfJxPUXnUo",
        "colab_type": "code",
        "colab": {
          "autoexec": {
            "startup": false,
            "wait_interval": 0
          }
        }
      },
      "cell_type": "code",
      "source": [
        "!rm /content/CAX_Superhero_Train/Hulk/8145cax.jpg"
      ],
      "execution_count": 0,
      "outputs": []
    },
    {
      "metadata": {
        "id": "60X-jCgspuaf",
        "colab_type": "code",
        "colab": {
          "autoexec": {
            "startup": false,
            "wait_interval": 0
          }
        }
      },
      "cell_type": "code",
      "source": [
        "!rm /content/CAX_Superhero_Train/Aquaman/1491cax.jpg"
      ],
      "execution_count": 0,
      "outputs": []
    },
    {
      "metadata": {
        "id": "i3LioPZzPGm1",
        "colab_type": "code",
        "colab": {
          "autoexec": {
            "startup": false,
            "wait_interval": 0
          },
          "output_extras": [
            {
              "item_id": 1
            }
          ],
          "base_uri": "https://localhost:8080/",
          "height": 53
        },
        "outputId": "37f69b80-eac9-45d9-dc08-27958820f0d7",
        "executionInfo": {
          "status": "ok",
          "timestamp": 1521885090871,
          "user_tz": -330,
          "elapsed": 5328,
          "user": {
            "displayName": "Yasir Mir",
            "photoUrl": "//lh4.googleusercontent.com/-PY9Q144RUDw/AAAAAAAAAAI/AAAAAAAADLk/WUtsYa51EaA/s50-c-k-no/photo.jpg",
            "userId": "106752496354715351807"
          }
        }
      },
      "cell_type": "code",
      "source": [
        "!ls"
      ],
      "execution_count": 173,
      "outputs": [
        {
          "output_type": "stream",
          "text": [
            "CAX_Superhero_Test\tCAX_Superhero_Train\t datalab  __MACOSX\r\n",
            "CAX_Superhero_Test.zip\tCAX_Superhero_Train.zip  drive\r\n"
          ],
          "name": "stdout"
        }
      ]
    },
    {
      "metadata": {
        "id": "JwYkdinUTxYI",
        "colab_type": "code",
        "colab": {
          "autoexec": {
            "startup": false,
            "wait_interval": 0
          },
          "output_extras": [
            {},
            {}
          ],
          "base_uri": "https://localhost:8080/",
          "height": 269
        },
        "outputId": "643f2c02-62ad-459a-a509-a924bc8a4e8f",
        "executionInfo": {
          "status": "ok",
          "timestamp": 1521868210949,
          "user_tz": -330,
          "elapsed": 1082,
          "user": {
            "displayName": "Yasir Mir",
            "photoUrl": "//lh4.googleusercontent.com/-PY9Q144RUDw/AAAAAAAAAAI/AAAAAAAADLk/WUtsYa51EaA/s50-c-k-no/photo.jpg",
            "userId": "106752496354715351807"
          }
        }
      },
      "cell_type": "code",
      "source": [
        "######################### preparing the train data -- x_train #####################################\n",
        "\n",
        "\n",
        "import numpy as np\n",
        "count =0\n",
        "dir_count =-1\n",
        "temp = []\n",
        "y_train = []\n",
        "rootDir = '/content/CAX_Superhero_Train/'\n",
        "for dirName, subdirList, fileList in os.walk(rootDir):\n",
        "    \n",
        "    dir_count+=1\n",
        "    print dir_count, dirName\n",
        "  \n",
        "    for fname in fileList:\n",
        "          if \"cax\" in fname:\n",
        "             ##print('\\t%s' % fname)\n",
        "                y_train.append(dir_count - 1)\n",
        "                count +=1\n",
        "                temp.append(str(dirName+\"/\"+fname))\n",
        "\n",
        "\n",
        "\n",
        "# img_set = set(im.shape for im in temp)\n",
        "# if(len(img_set)!=1):\n",
        "#        print \"not all images of same dims\",len(img_set),img_set\n",
        "# else:\n",
        "#        print \"all images of same dims\", img_set\n",
        "    \n",
        "\n",
        "          \n",
        "x_train = np.array(temp)\n",
        "y_train = np.array(y_train)\n",
        "\n",
        "del temp\n",
        "\n",
        "import gc\n",
        "gc.collect()\n"
      ],
      "execution_count": 0,
      "outputs": [
        {
          "output_type": "stream",
          "text": [
            "0 /content/CAX_Superhero_Train/\n",
            "1 /content/CAX_Superhero_Train/Iron Man\n",
            "2 /content/CAX_Superhero_Train/Superman\n",
            "3 /content/CAX_Superhero_Train/Aquaman\n",
            "4 /content/CAX_Superhero_Train/Hulk\n",
            "5 /content/CAX_Superhero_Train/Ant-Man\n",
            "6 /content/CAX_Superhero_Train/Catwoman\n",
            "7 /content/CAX_Superhero_Train/Avengers\n",
            "8 /content/CAX_Superhero_Train/Batman\n",
            "9 /content/CAX_Superhero_Train/Black Panther\n",
            "10 /content/CAX_Superhero_Train/Captain America\n",
            "11 /content/CAX_Superhero_Train/Spiderman\n",
            "12 /content/CAX_Superhero_Train/Ghost Rider\n"
          ],
          "name": "stdout"
        },
        {
          "output_type": "execute_result",
          "data": {
            "text/plain": [
              "749"
            ]
          },
          "metadata": {
            "tags": []
          },
          "execution_count": 98
        }
      ]
    },
    {
      "metadata": {
        "id": "Zq-Fvh6P1TT6",
        "colab_type": "code",
        "colab": {
          "autoexec": {
            "startup": false,
            "wait_interval": 0
          }
        }
      },
      "cell_type": "code",
      "source": [
        ""
      ],
      "execution_count": 0,
      "outputs": []
    },
    {
      "metadata": {
        "id": "yo3fLjhiO-Fp",
        "colab_type": "code",
        "colab": {
          "autoexec": {
            "startup": false,
            "wait_interval": 0
          }
        }
      },
      "cell_type": "code",
      "source": [
        "######################### preparing the test data -- x_test for evaluation purpose #####################################\n",
        "\n",
        "count =0\n",
        "dir_count =-1\n",
        "temp1 = []\n",
        "from collections import defaultdict\n",
        "dict1 = defaultdict(list)\n",
        "rootDir = '/content/CAX_Superhero_Test'\n",
        "for dirName, subdirList, fileList in os.walk(rootDir):\n",
        "   \n",
        "    for fname in fileList:\n",
        "            if \"superhero\" in fname:      \n",
        "                    count +=1\n",
        "\n",
        "                    img = imread(rootDir+\"/\"+fname)\n",
        "\n",
        "                    img = imresize(img,(180,180))\n",
        "\n",
        "\n",
        "                    ##print count, dirName+\"/\"+fname\n",
        "                    ##dict1[img.shape].append(dirName+\"/\"+fname)\n",
        "\n",
        "                    temp1.append(img.astype('float32'))\n",
        "\n",
        "\n",
        "print len(temp1)\n",
        "img_set = set(im.shape for im in temp1)\n",
        "if(len(img_set)!=1):\n",
        "       print \"not all images of same dims\",len(img_set),img_set\n",
        "else:\n",
        "       print \"all images of same dims\", img_set\n",
        "    \n",
        "\n",
        "          \n",
        "x_test = np.array(temp1)\n"
      ],
      "execution_count": 0,
      "outputs": []
    },
    {
      "metadata": {
        "id": "KQid8dcWWMP3",
        "colab_type": "code",
        "colab": {
          "autoexec": {
            "startup": false,
            "wait_interval": 0
          }
        }
      },
      "cell_type": "code",
      "source": [
        "import tensorflow\n"
      ],
      "execution_count": 0,
      "outputs": []
    },
    {
      "metadata": {
        "id": "HWNxnp3UXMLz",
        "colab_type": "code",
        "colab": {
          "autoexec": {
            "startup": false,
            "wait_interval": 0
          },
          "output_extras": [
            {}
          ],
          "base_uri": "https://localhost:8080/",
          "height": 35
        },
        "outputId": "c58984b5-dbf6-4af9-9e5f-2838cac8fcb0",
        "executionInfo": {
          "status": "ok",
          "timestamp": 1521866638937,
          "user_tz": -330,
          "elapsed": 855,
          "user": {
            "displayName": "Yasir Mir",
            "photoUrl": "//lh4.googleusercontent.com/-PY9Q144RUDw/AAAAAAAAAAI/AAAAAAAADLk/WUtsYa51EaA/s50-c-k-no/photo.jpg",
            "userId": "106752496354715351807"
          }
        }
      },
      "cell_type": "code",
      "source": [
        "import keras"
      ],
      "execution_count": 0,
      "outputs": [
        {
          "output_type": "stream",
          "text": [
            "Using TensorFlow backend.\n"
          ],
          "name": "stderr"
        }
      ]
    },
    {
      "metadata": {
        "id": "SfJ8Pq-gXZmf",
        "colab_type": "code",
        "colab": {
          "autoexec": {
            "startup": false,
            "wait_interval": 0
          }
        }
      },
      "cell_type": "code",
      "source": [
        "from keras.models import Sequential, Model\n",
        "from keras.layers import Dense, Conv2D\n",
        "from keras.layers import Dropout\n",
        "from keras.layers import Flatten\n",
        "from keras.constraints import maxnorm\n",
        "from keras.optimizers import SGD,Adam\n",
        "from keras.layers.convolutional import MaxPooling2D\n",
        "from keras.utils import np_utils\n"
      ],
      "execution_count": 0,
      "outputs": []
    },
    {
      "metadata": {
        "id": "SYjLcKAVOUHo",
        "colab_type": "code",
        "colab": {
          "autoexec": {
            "startup": false,
            "wait_interval": 0
          }
        }
      },
      "cell_type": "code",
      "source": [
        "seed = 7\n",
        "np.random.seed(seed)"
      ],
      "execution_count": 0,
      "outputs": []
    },
    {
      "metadata": {
        "id": "itlSh7eVhEDW",
        "colab_type": "code",
        "colab": {
          "autoexec": {
            "startup": false,
            "wait_interval": 0
          }
        }
      },
      "cell_type": "code",
      "source": [
        "from keras import applications\n",
        "from keras.preprocessing.image import ImageDataGenerator\n",
        "from keras import backend as k \n",
        "from keras.callbacks import ModelCheckpoint, LearningRateScheduler, TensorBoard, EarlyStopping\n",
        "from keras.layers import Input, Add\n",
        "from sklearn.metrics import confusion_matrix\n",
        "from keras.regularizers import l2"
      ],
      "execution_count": 0,
      "outputs": []
    },
    {
      "metadata": {
        "id": "Blmb99swbxVn",
        "colab_type": "code",
        "colab": {
          "autoexec": {
            "startup": false,
            "wait_interval": 0
          }
        }
      },
      "cell_type": "code",
      "source": [
        ""
      ],
      "execution_count": 0,
      "outputs": []
    },
    {
      "metadata": {
        "id": "kqq8laP2b68a",
        "colab_type": "code",
        "colab": {
          "autoexec": {
            "startup": false,
            "wait_interval": 0
          }
        }
      },
      "cell_type": "code",
      "source": [
        "from sklearn.model_selection import train_test_split\n",
        "x_train,x_test, y_train,y_test = train_test_split(x_train, y_train, test_size = 0.2)\n",
        "train_ids = zip(x_train, y_train)\n",
        "valid_ids = zip(x_test, y_test)"
      ],
      "execution_count": 0,
      "outputs": []
    },
    {
      "metadata": {
        "id": "nxFmJFXkcPRZ",
        "colab_type": "code",
        "colab": {
          "autoexec": {
            "startup": false,
            "wait_interval": 0
          },
          "output_extras": [
            {
              "item_id": 1
            }
          ],
          "base_uri": "https://localhost:8080/",
          "height": 35
        },
        "outputId": "18a24d9a-e94b-4b55-b650-186e103f1e57",
        "executionInfo": {
          "status": "ok",
          "timestamp": 1521887843297,
          "user_tz": -330,
          "elapsed": 1074,
          "user": {
            "displayName": "Yasir Mir",
            "photoUrl": "//lh4.googleusercontent.com/-PY9Q144RUDw/AAAAAAAAAAI/AAAAAAAADLk/WUtsYa51EaA/s50-c-k-no/photo.jpg",
            "userId": "106752496354715351807"
          }
        }
      },
      "cell_type": "code",
      "source": [
        "print x_train.shape, y_train.shape, x_test.shape, y_test.shape"
      ],
      "execution_count": 189,
      "outputs": [
        {
          "output_type": "stream",
          "text": [
            "(10808,) (10808,) (2702,) (2702,)\n"
          ],
          "name": "stdout"
        }
      ]
    },
    {
      "metadata": {
        "id": "_--s1K7Kjl1O",
        "colab_type": "code",
        "colab": {
          "autoexec": {
            "startup": false,
            "wait_interval": 0
          }
        }
      },
      "cell_type": "code",
      "source": [
        "reg_lambda = 0.001\n",
        "\n",
        "inputs = Input(shape=(224,224,3))\n",
        "x1 = Conv2D(16, (3,3), padding='same', activation='relu', kernel_regularizer=l2(reg_lambda))(inputs)\n",
        "x2 = Conv2D(16, (3,3), padding='same', activation='relu', kernel_regularizer=l2(reg_lambda))(x1)\n",
        "x2 = Add()([x1,x2])\n",
        "x2 = MaxPooling2D()(x2)\n",
        "x3 = Conv2D(32, (3,3), padding='same', activation='relu', kernel_regularizer=l2(reg_lambda))(x2)\n",
        "x4 = Conv2D(32, (3,3), padding='same', activation='relu', kernel_regularizer=l2(reg_lambda))(x3)\n",
        "x4 = Add()([x3, x4])\n",
        "x4 = MaxPooling2D()(x4)\n",
        "x5 = Conv2D(64, (3,3), padding='same', activation='relu', kernel_regularizer=l2(reg_lambda))(x4)\n",
        "x6 = Conv2D(64, (3,3), padding='same', activation='relu', kernel_regularizer=l2(reg_lambda))(x5)\n",
        "x6 = Add()([x5,x6])\n",
        "x6 = MaxPooling2D()(x6)\n",
        "x7 = Conv2D(128, (3,3), padding='same', activation='relu', kernel_regularizer=l2(reg_lambda))(x6)\n",
        "x8 = Conv2D(128, (3,3), padding='same', activation='relu', kernel_regularizer=l2(reg_lambda))(x7)\n",
        "x8 = Add()([x7,x8])\n",
        "x8 = MaxPooling2D()(x8)\n",
        "x9 = Conv2D(256, (3,3), padding='same', activation='relu', kernel_regularizer=l2(reg_lambda))(x8)\n",
        "x10 = Conv2D(256, (3,3), padding='same', activation='relu', kernel_regularizer=l2(reg_lambda))(x9)\n",
        "x10 = Add()([x9,x10])\n",
        "x10 = MaxPooling2D()(x10)\n",
        "x11 = Conv2D(512, (3,3), padding='same', activation='relu', kernel_regularizer=l2(reg_lambda))(x10)\n",
        "x12 = Conv2D(512, (3,3), padding='same', activation='relu', kernel_regularizer=l2(reg_lambda))(x11)\n",
        "x12 = Add()([x11, x12])\n",
        "x12 = MaxPooling2D()(x12)\n",
        "x = Conv2D(512, (3,3), activation='relu', kernel_regularizer=l2(reg_lambda))(x12)\n",
        "x = Flatten()(x)\n",
        "predictions = Dense(12, activation='softmax', kernel_regularizer=l2(reg_lambda))(x)\n",
        "\n",
        "\n",
        "\n",
        "model_final = Model(inputs=inputs, outputs=predictions)\n",
        "\n",
        "lrate = 0.0001\n",
        "adam = Adam(lr=lrate, beta_1=0.9, beta_2=0.999, epsilon=1e-8)\n",
        "model_final.compile(loss='categorical_crossentropy', optimizer=adam, metrics=['accuracy'])\n"
      ],
      "execution_count": 0,
      "outputs": []
    },
    {
      "metadata": {
        "id": "P04icz5JSIN6",
        "colab_type": "code",
        "colab": {
          "autoexec": {
            "startup": false,
            "wait_interval": 0
          }
        }
      },
      "cell_type": "code",
      "source": [
        "for i, n in enumerate(model_final.layers):\n",
        "  print i ,n\n",
        "  "
      ],
      "execution_count": 0,
      "outputs": []
    },
    {
      "metadata": {
        "id": "MJHmq4-ZZu_N",
        "colab_type": "code",
        "colab": {
          "autoexec": {
            "startup": false,
            "wait_interval": 0
          }
        }
      },
      "cell_type": "code",
      "source": [
        "print model_final.summary()"
      ],
      "execution_count": 0,
      "outputs": []
    },
    {
      "metadata": {
        "id": "CfXjsZqH-hwu",
        "colab_type": "code",
        "colab": {
          "autoexec": {
            "startup": false,
            "wait_interval": 0
          }
        }
      },
      "cell_type": "code",
      "source": [
        "#fit_generator\n",
        "batch_size = 16\n",
        "train_params = {'dim_x': 224,\n",
        "          'dim_y': 224,\n",
        "          'dim_z': 3,\n",
        "          'batch_size': batch_size,\n",
        "          'shuffle': True}\n",
        "\n",
        "train_gen = DataGenerator(**train_params)\n",
        "train_gen.fit(train_ids)\n",
        "trining_generator = train_gen.generate(train_ids)\n",
        "train_means = train_gen.get_means\n",
        "\n",
        "valid_params = {'dim_x': 224,\n",
        "          'dim_y': 224,\n",
        "          'dim_z': 3,\n",
        "          'batch_size': batch_size,\n",
        "          'shuffle': False,\n",
        "          'test': True,\n",
        "          'train_means': train_means}\n",
        "validation_generator = DataGenerator(**valid_params).generate(valid_ids)\n",
        "\n",
        "\n",
        "train_steps = len(train_ids)/batch_size\n",
        "valid_steps = len(valid_ids)/batch_size\n",
        "\n"
      ],
      "execution_count": 0,
      "outputs": []
    },
    {
      "metadata": {
        "id": "2p-9OemLB670",
        "colab_type": "code",
        "colab": {
          "autoexec": {
            "startup": false,
            "wait_interval": 0
          },
          "output_extras": [
            {
              "item_id": 279
            },
            {
              "item_id": 546
            },
            {
              "item_id": 824
            },
            {
              "item_id": 1088
            },
            {
              "item_id": 1292
            },
            {
              "item_id": 1523
            },
            {
              "item_id": 1760
            },
            {
              "item_id": 1985
            },
            {
              "item_id": 2168
            },
            {
              "item_id": 2383
            },
            {
              "item_id": 2551
            }
          ],
          "base_uri": "https://localhost:8080/",
          "height": 469
        },
        "outputId": "60d0b6d1-53e1-4b2c-93d1-4cd12d554085"
      },
      "cell_type": "code",
      "source": [
        "from keras.callbacks import ModelCheckpoint, EarlyStopping\n",
        "\n",
        "filepath = \"drive/superheroes/model.h5\"\n",
        "checkpoint = ModelCheckpoint(filepath, monitor='val_loss', save_best_only=True)\n",
        "early_stopper = EarlyStopping(monitor='val_loss', patience=3)\n",
        "callbacks_list = [early_stopper]\n",
        "\n",
        "History = model_final.fit_generator(generator = training_generator,\n",
        "                    steps_per_epoch = train_steps,\n",
        "                    validation_data = validation_generator,\n",
        "                    validation_steps = valid_steps,\n",
        "                    epochs=40,\n",
        "                    callbacks = callbacks_list)\n"
      ],
      "execution_count": 0,
      "outputs": [
        {
          "output_type": "stream",
          "text": [
            "Epoch 1/40\n",
            "675/675 [==============================] - 129s 191ms/step - loss: 3.4907 - acc: 0.2129 - val_loss: 3.5222 - val_acc: 0.1611\n",
            "Epoch 2/40\n",
            "167/675 [======>.......................] - ETA: 1:24 - loss: 2.6821 - acc: 0.3424"
          ],
          "name": "stdout"
        },
        {
          "output_type": "stream",
          "text": [
            "675/675 [==============================] - 125s 185ms/step - loss: 2.4585 - acc: 0.3940 - val_loss: 2.9340 - val_acc: 0.2504\n",
            "Epoch 3/40\n",
            "272/675 [===========>..................] - ETA: 1:07 - loss: 2.1356 - acc: 0.4701"
          ],
          "name": "stdout"
        },
        {
          "output_type": "stream",
          "text": [
            "675/675 [==============================] - 125s 185ms/step - loss: 2.0545 - acc: 0.4960 - val_loss: 3.0199 - val_acc: 0.1834\n",
            "Epoch 4/40\n",
            "311/675 [============>.................] - ETA: 1:00 - loss: 1.8643 - acc: 0.5500"
          ],
          "name": "stdout"
        },
        {
          "output_type": "stream",
          "text": [
            "675/675 [==============================] - 124s 184ms/step - loss: 1.8146 - acc: 0.5596 - val_loss: 2.7811 - val_acc: 0.2247\n",
            "Epoch 5/40\n",
            "326/675 [=============>................] - ETA: 58s - loss: 1.6948 - acc: 0.5801"
          ],
          "name": "stdout"
        },
        {
          "output_type": "stream",
          "text": [
            "675/675 [==============================] - 124s 184ms/step - loss: 1.6872 - acc: 0.5842 - val_loss: 2.4257 - val_acc: 0.3397\n",
            "Epoch 6/40\n",
            "331/675 [=============>................] - ETA: 57s - loss: 1.6119 - acc: 0.6090"
          ],
          "name": "stdout"
        },
        {
          "output_type": "stream",
          "text": [
            "675/675 [==============================] - 125s 186ms/step - loss: 1.5883 - acc: 0.6118 - val_loss: 2.8451 - val_acc: 0.2325\n",
            "Epoch 7/40\n",
            "333/675 [=============>................] - ETA: 57s - loss: 1.4935 - acc: 0.6329"
          ],
          "name": "stdout"
        },
        {
          "output_type": "stream",
          "text": [
            "675/675 [==============================] - 125s 186ms/step - loss: 1.4956 - acc: 0.6315 - val_loss: 2.4789 - val_acc: 0.3490\n",
            "Epoch 8/40\n",
            "334/675 [=============>................] - ETA: 56s - loss: 1.4548 - acc: 0.6446"
          ],
          "name": "stdout"
        },
        {
          "output_type": "stream",
          "text": [
            "675/675 [==============================] - 125s 186ms/step - loss: 1.4280 - acc: 0.6539 - val_loss: 2.3630 - val_acc: 0.3813\n",
            "Epoch 9/40\n",
            "334/675 [=============>................] - ETA: 57s - loss: 1.3359 - acc: 0.6931"
          ],
          "name": "stdout"
        },
        {
          "output_type": "stream",
          "text": [
            "675/675 [==============================] - 125s 186ms/step - loss: 1.3289 - acc: 0.6895 - val_loss: 2.3776 - val_acc: 0.3739\n",
            "Epoch 10/40\n",
            "333/675 [=============>................] - ETA: 57s - loss: 1.2515 - acc: 0.7143"
          ],
          "name": "stdout"
        },
        {
          "output_type": "stream",
          "text": [
            "675/675 [==============================] - 125s 186ms/step - loss: 1.2479 - acc: 0.7169 - val_loss: 2.4848 - val_acc: 0.3653\n",
            "Epoch 11/40\n",
            "332/675 [=============>................] - ETA: 57s - loss: 1.1764 - acc: 0.7387"
          ],
          "name": "stdout"
        },
        {
          "output_type": "stream",
          "text": [
            "675/675 [==============================] - 125s 186ms/step - loss: 1.1600 - acc: 0.7457 - val_loss: 2.3253 - val_acc: 0.4059\n",
            "Epoch 12/40\n",
            "183/675 [=======>......................] - ETA: 1:22 - loss: 1.1445 - acc: 0.7445"
          ],
          "name": "stdout"
        }
      ]
    },
    {
      "metadata": {
        "id": "qNzqapCIL1uD",
        "colab_type": "code",
        "colab": {
          "autoexec": {
            "startup": false,
            "wait_interval": 0
          },
          "output_extras": [
            {},
            {}
          ],
          "base_uri": "https://localhost:8080/",
          "height": 366
        },
        "outputId": "1ae9e568-be32-42de-8c6a-87f9c69b21fd",
        "executionInfo": {
          "status": "ok",
          "timestamp": 1521879591720,
          "user_tz": -330,
          "elapsed": 1282,
          "user": {
            "displayName": "Yasir Mir",
            "photoUrl": "//lh4.googleusercontent.com/-PY9Q144RUDw/AAAAAAAAAAI/AAAAAAAADLk/WUtsYa51EaA/s50-c-k-no/photo.jpg",
            "userId": "106752496354715351807"
          }
        }
      },
      "cell_type": "code",
      "source": [
        "plt.plot(History.history['loss'], 'r')\n",
        "plt.plot(History.history['val_loss'], 'g')"
      ],
      "execution_count": 0,
      "outputs": [
        {
          "output_type": "execute_result",
          "data": {
            "text/plain": [
              "[<matplotlib.lines.Line2D at 0x7f1c1e452950>]"
            ]
          },
          "metadata": {
            "tags": []
          },
          "execution_count": 146
        },
        {
          "output_type": "display_data",
          "data": {
            "image/png": "[encoded data removed]",
            "text/plain": [
              "<matplotlib.figure.Figure at 0x7f1c1e452dd0>"
            ]
          },
          "metadata": {
            "tags": []
          }
        }
      ]
    },
    {
      "metadata": {
        "id": "a2cG5uU5sBM9",
        "colab_type": "code",
        "colab": {
          "autoexec": {
            "startup": false,
            "wait_interval": 0
          }
        }
      },
      "cell_type": "code",
      "source": [
        "labels = ['iron_man',\n",
        "'super_man',\n",
        "'aqua_man',\n",
        "'hulk',\n",
        "'ant_man',\n",
        "'cat_woman',\n",
        "'avengers',\n",
        "'bat_man',\n",
        "'black_panther',\n",
        "'captain_america',\n",
        "'spider_man',\n",
        "'ghostrider']\n"
      ],
      "execution_count": 0,
      "outputs": []
    },
    {
      "metadata": {
        "id": "C2ZGKdzJpQ1u",
        "colab_type": "code",
        "colab": {
          "autoexec": {
            "startup": false,
            "wait_interval": 0
          }
        }
      },
      "cell_type": "code",
      "source": [
        "cm = confusion_matrix(y_test, target_class[:y_test.shape[0]])\n",
        "fig = plt.figure(figsize = (20,10))\n",
        "ax = fig.add_subplot(111)\n",
        "cax = ax.matshow(cm)\n",
        "fig.colorbar(cax)\n",
        "\n",
        "plt.xticks(range(len(labels)), labels)\n",
        "plt.yticks(range(len(labels)), labels)\n",
        "\n",
        "plt.show()"
      ],
      "execution_count": 0,
      "outputs": []
    },
    {
      "metadata": {
        "id": "yxhjj8nvt7cF",
        "colab_type": "code",
        "colab": {
          "autoexec": {
            "startup": false,
            "wait_interval": 0
          }
        }
      },
      "cell_type": "code",
      "source": [
        "class DataGenerator(object):\n",
        "  'Generates data for Keras'\n",
        "  def __init__(self, dim_x = 224, dim_y = 224, dim_z = 3, batch_size = 16, shuffle = True, test=False, train_means=None):\n",
        "      'Initialization'\n",
        "      self.dim_x = dim_x\n",
        "      self.dim_y = dim_y\n",
        "      self.dim_z = dim_z\n",
        "      self.batch_size = batch_size\n",
        "      self.shuffle = shuffle\n",
        "      \n",
        "      if test:\n",
        "        self.means = train_means\n",
        "      else:\n",
        "        self.means = np.zeros((self.dim_z,))\n",
        "        \n",
        "        \n",
        "  @property\n",
        "  def get_means(self):\n",
        "    return self.means\n",
        "  \n",
        "  def fit(self, list_IDs):\n",
        "    for ID in list_IDs:\n",
        "      img = imread(ID[0])\n",
        "      img = imresize(img,(224,224))\n",
        "      self.means += np.mean(img, axis=(0,1))\n",
        "      \n",
        "    self.means /= len(list_IDs)\n",
        "    return \n",
        "\n",
        "  def generate(self, list_IDs):\n",
        "      'Generates batches of samples'\n",
        "      # Infinite loop\n",
        "      while 1:\n",
        "          # Generate order of exploration of dataset\n",
        "          indexes = self.__get_exploration_order(list_IDs)\n",
        "\n",
        "          # Generate batches\n",
        "          imax = int(len(indexes)/self.batch_size)\n",
        "          for i in range(imax):\n",
        "              # Find list of IDs\n",
        "              list_IDs_temp = [list_IDs[k] for k in indexes[i*self.batch_size:(i+1)*self.batch_size]]\n",
        "\n",
        "              # Generate data\n",
        "              X, y = self.__data_generation(list_IDs_temp)\n",
        "\n",
        "              yield X, y\n",
        "\n",
        "  def __get_exploration_order(self, list_IDs):\n",
        "      'Generates order of exploration'\n",
        "      # Find exploration order\n",
        "      indexes = np.arange(len(list_IDs))\n",
        "      if self.shuffle == True:\n",
        "          np.random.shuffle(indexes)\n",
        "\n",
        "      return indexes\n",
        "\n",
        "  def __data_generation(self, list_IDs_temp):\n",
        "      'Generates data of batch_size samples' # X : (n_samples, v_size, v_size, v_size, n_channels)\n",
        "      # Initialization\n",
        "      X = np.empty((self.batch_size, self.dim_x, self.dim_y, self.dim_z), dtype = np.float32)\n",
        "      y = np.empty((self.batch_size), dtype = int)\n",
        "\n",
        "      # Generate data\n",
        "      for i, ID in enumerate(list_IDs_temp):\n",
        "          # Store volume\n",
        "          img = imread(ID[0])\n",
        "\n",
        "          try:\n",
        "            img = imresize(img,(224,224))\n",
        "            img = img.astype(np.float32)\n",
        "            img -= self.means\n",
        "            img /= 255.\n",
        "          except:\n",
        "            print 'mode error: %s' %ID[0]\n",
        "          \n",
        "          \n",
        "          \n",
        "          assert ((img.shape[0] == self.dim_x) and (img.shape[1] == self.dim_y) and (img.shape[2] == self.dim_z)), \"%d %d %d %s\" %(img.shape[0], img.shape[1], img.shape[2], ID[0])\n",
        "                               \n",
        "          X[i, :, :, :] = img\n",
        "\n",
        "          # Store class\n",
        "          y[i] = ID[1]\n",
        "\n",
        "      return X, sparsify(y)\n",
        "\n",
        "def sparsify(y):\n",
        "  'Returns labels in binary NumPy array'\n",
        "  n_classes = 12 # Enter number of classes\n",
        "  return np.array([[1 if y[i] == j else 0 for j in range(n_classes)]\n",
        "                   for i in range(y.shape[0])])"
      ],
      "execution_count": 0,
      "outputs": []
    },
    {
      "metadata": {
        "id": "PLJXPGDtlHPD",
        "colab_type": "code",
        "colab": {
          "autoexec": {
            "startup": false,
            "wait_interval": 0
          }
        }
      },
      "cell_type": "code",
      "source": [
        "f = np.random.randint(0, 255, (224,224,3))"
      ],
      "execution_count": 0,
      "outputs": []
    },
    {
      "metadata": {
        "id": "VYbB1Bbkqa4G",
        "colab_type": "code",
        "colab": {
          "autoexec": {
            "startup": false,
            "wait_interval": 0
          },
          "output_extras": [
            {}
          ],
          "base_uri": "https://localhost:8080/",
          "height": 35
        },
        "outputId": "1a719554-4fb5-4616-bc4e-a292a11ca033",
        "executionInfo": {
          "status": "ok",
          "timestamp": 1521883957706,
          "user_tz": -330,
          "elapsed": 950,
          "user": {
            "displayName": "Yasir Mir",
            "photoUrl": "//lh4.googleusercontent.com/-PY9Q144RUDw/AAAAAAAAAAI/AAAAAAAADLk/WUtsYa51EaA/s50-c-k-no/photo.jpg",
            "userId": "106752496354715351807"
          }
        }
      },
      "cell_type": "code",
      "source": [
        "(f - np.mean(f, axis=(0,1))).shape"
      ],
      "execution_count": 0,
      "outputs": [
        {
          "output_type": "execute_result",
          "data": {
            "text/plain": [
              "(224, 224, 3)"
            ]
          },
          "metadata": {
            "tags": []
          },
          "execution_count": 161
        }
      ]
    },
    {
      "metadata": {
        "id": "ElGw2KMRT4Km",
        "colab_type": "code",
        "colab": {
          "autoexec": {
            "startup": false,
            "wait_interval": 0
          }
        }
      },
      "cell_type": "code",
      "source": [
        ""
      ],
      "execution_count": 0,
      "outputs": []
    }
  ]
}